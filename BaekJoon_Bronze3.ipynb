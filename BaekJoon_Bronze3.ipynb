{
 "cells": [
  {
   "cell_type": "markdown",
   "id": "a0c5223b-6ba8-4b33-b2a1-03eb09f37a15",
   "metadata": {
    "jp-MarkdownHeadingCollapsed": true,
    "tags": []
   },
   "source": [
    "# 2525번"
   ]
  },
  {
   "cell_type": "code",
   "execution_count": 3,
   "id": "33f9cb8d-7bd7-40e9-91ad-50b4452e684b",
   "metadata": {
    "tags": []
   },
   "outputs": [
    {
     "name": "stdin",
     "output_type": "stream",
     "text": [
      " 23 48\n",
      " 25\n"
     ]
    },
    {
     "name": "stdout",
     "output_type": "stream",
     "text": [
      "0 13\n"
     ]
    }
   ],
   "source": [
    "hours, minutes = input().split(\" \")\n",
    "hours, minutes = int(hours), int(minutes)\n",
    "\n",
    "require_time = int(input())\n",
    "\n",
    "minutes_concat = minutes + require_time\n",
    "\n",
    "if minutes_concat >= 60:\n",
    "    add_hours = minutes_concat // 60\n",
    "    result_hours = hours + add_hours\n",
    "    result_minutes = minutes_concat - (add_hours * 60)\n",
    "    if result_hours > 23:\n",
    "        result_hours = result_hours - 24\n",
    "else:\n",
    "    result_hours = hours\n",
    "    result_minutes = minutes_concat\n",
    "    \n",
    "print(result_hours, result_minutes)"
   ]
  },
  {
   "cell_type": "markdown",
   "id": "891168c6-e0e3-401b-a047-a87a167e6f2a",
   "metadata": {
    "jp-MarkdownHeadingCollapsed": true,
    "tags": []
   },
   "source": [
    "# 10817번"
   ]
  },
  {
   "cell_type": "code",
   "execution_count": 8,
   "id": "5b5cde74-b55e-41ac-8c1c-6680822a24d5",
   "metadata": {
    "tags": []
   },
   "outputs": [
    {
     "name": "stdin",
     "output_type": "stream",
     "text": [
      " 20 30 10\n"
     ]
    },
    {
     "name": "stdout",
     "output_type": "stream",
     "text": [
      "20\n"
     ]
    }
   ],
   "source": [
    "A, B, C = input().split(\" \")\n",
    "\n",
    "num_list = [int(A), int(B), int(C)]\n",
    "num_list.sort()\n",
    "print(num_list[-2])"
   ]
  },
  {
   "cell_type": "markdown",
   "id": "d10ffa02-990d-4a76-a067-262c1f5ec981",
   "metadata": {
    "jp-MarkdownHeadingCollapsed": true,
    "tags": []
   },
   "source": [
    "# 10250번"
   ]
  },
  {
   "cell_type": "code",
   "execution_count": 15,
   "id": "9cf208ff-c5a7-4e26-ad89-6cb1920599bb",
   "metadata": {
    "tags": []
   },
   "outputs": [
    {
     "name": "stdin",
     "output_type": "stream",
     "text": [
      " 3\n",
      " 6 12 10\n"
     ]
    },
    {
     "name": "stdout",
     "output_type": "stream",
     "text": [
      "402\n"
     ]
    },
    {
     "name": "stdin",
     "output_type": "stream",
     "text": [
      " 6 12 12\n"
     ]
    },
    {
     "name": "stdout",
     "output_type": "stream",
     "text": [
      "602\n"
     ]
    },
    {
     "name": "stdin",
     "output_type": "stream",
     "text": [
      " 30 50 72\n"
     ]
    },
    {
     "name": "stdout",
     "output_type": "stream",
     "text": [
      "1203\n"
     ]
    }
   ],
   "source": [
    "T = int(input())\n",
    "\n",
    "for i in range(T):\n",
    "    H, W, N = map(int, input().split())\n",
    "    multiple = N // H\n",
    "    if N % H == 0:\n",
    "        result_W = multiple\n",
    "        result_H = H\n",
    "    else:\n",
    "        result_W = multiple + 1\n",
    "        result_H = N - (multiple * H)\n",
    "    \n",
    "    print(result_H * 100 + result_W)"
   ]
  },
  {
   "cell_type": "markdown",
   "id": "953413d7-7c07-4b8e-93e7-d9a539e6a500",
   "metadata": {
    "jp-MarkdownHeadingCollapsed": true,
    "tags": []
   },
   "source": [
    "# 2441번"
   ]
  },
  {
   "cell_type": "code",
   "execution_count": 19,
   "id": "1fbc2cb9-1a00-42fd-ad85-910eb6b8d3c0",
   "metadata": {
    "tags": []
   },
   "outputs": [
    {
     "name": "stdin",
     "output_type": "stream",
     "text": [
      " 5\n"
     ]
    },
    {
     "name": "stdout",
     "output_type": "stream",
     "text": [
      "*****\n",
      " ****\n",
      "  ***\n",
      "   **\n",
      "    *\n"
     ]
    }
   ],
   "source": [
    "N = int(input())\n",
    "\n",
    "for i in range(N, 0, -1):\n",
    "    blank = \" \" * (N - i)\n",
    "    print(f\"{blank}{'*' * i}\")"
   ]
  },
  {
   "cell_type": "markdown",
   "id": "44b1ff82-d848-4d15-9d01-9943a315383b",
   "metadata": {
    "jp-MarkdownHeadingCollapsed": true,
    "tags": []
   },
   "source": [
    "# 1085번"
   ]
  },
  {
   "cell_type": "code",
   "execution_count": 1,
   "id": "03a25360-597a-4e96-9582-10289b5db597",
   "metadata": {
    "tags": []
   },
   "outputs": [
    {
     "name": "stdin",
     "output_type": "stream",
     "text": [
      " 653 375 1000 1000\n"
     ]
    },
    {
     "name": "stdout",
     "output_type": "stream",
     "text": [
      "347\n"
     ]
    }
   ],
   "source": [
    "x, y, w, h = map(int, input().split(\" \"))\n",
    "\n",
    "abs_w = abs(x - w)\n",
    "abs_h = abs(y - h)\n",
    "distance_list = [x, y, abs_w, abs_h]\n",
    "\n",
    "print(min(distance_list))\n"
   ]
  },
  {
   "cell_type": "markdown",
   "id": "c1a9a5ec-789a-47ed-bd4d-8530606e9041",
   "metadata": {
    "jp-MarkdownHeadingCollapsed": true,
    "tags": []
   },
   "source": [
    "# 4153번"
   ]
  },
  {
   "cell_type": "code",
   "execution_count": 7,
   "id": "9578e09d-088e-43ff-911d-09b7cc708222",
   "metadata": {
    "tags": []
   },
   "outputs": [
    {
     "name": "stdin",
     "output_type": "stream",
     "text": [
      " 6 8 10\n"
     ]
    },
    {
     "name": "stdout",
     "output_type": "stream",
     "text": [
      "right\n"
     ]
    },
    {
     "name": "stdin",
     "output_type": "stream",
     "text": [
      " 25 52 60\n"
     ]
    },
    {
     "name": "stdout",
     "output_type": "stream",
     "text": [
      "wrong\n"
     ]
    },
    {
     "name": "stdin",
     "output_type": "stream",
     "text": [
      " 5 12 13\n"
     ]
    },
    {
     "name": "stdout",
     "output_type": "stream",
     "text": [
      "right\n"
     ]
    },
    {
     "name": "stdin",
     "output_type": "stream",
     "text": [
      " 0 0 0\n"
     ]
    }
   ],
   "source": [
    "while True:\n",
    "    a, b, c = map(int, input().split(\" \"))\n",
    "    if a == 0 and b == 0 and c == 0:\n",
    "        break\n",
    "    else:\n",
    "        triangle_sides = [a, b, c]\n",
    "        triangle_sides.sort()\n",
    "        max_side = triangle_sides.pop(-1)\n",
    "\n",
    "\n",
    "\n",
    "        if triangle_sides[0] ** 2 + triangle_sides[1] ** 2 == max_side ** 2:\n",
    "            print(\"right\")\n",
    "        else:\n",
    "            print(\"wrong\")"
   ]
  },
  {
   "cell_type": "markdown",
   "id": "2e328665-d468-42d2-917b-597abb31eb92",
   "metadata": {
    "jp-MarkdownHeadingCollapsed": true,
    "tags": []
   },
   "source": [
    "# 11721번"
   ]
  },
  {
   "cell_type": "code",
   "execution_count": 11,
   "id": "c6505b1b-4f36-4025-bf7a-90a3edfeaad8",
   "metadata": {
    "tags": []
   },
   "outputs": [
    {
     "name": "stdin",
     "output_type": "stream",
     "text": [
      " BaekjoonOnlineJudge\n"
     ]
    },
    {
     "name": "stdout",
     "output_type": "stream",
     "text": [
      "BaekjoonOn\n",
      "lineJudge\n"
     ]
    }
   ],
   "source": [
    "words = input()\n",
    "\n",
    "for i in range(0, len(words), 10):\n",
    "    print(words[i:i + 10])\n"
   ]
  },
  {
   "cell_type": "markdown",
   "id": "30cb98c8-0d3e-41ad-a4cc-c40f4ff90044",
   "metadata": {
    "jp-MarkdownHeadingCollapsed": true,
    "tags": []
   },
   "source": [
    "# 2444번"
   ]
  },
  {
   "cell_type": "code",
   "execution_count": 16,
   "id": "76b61c87-97cf-482a-aaea-cdb30d6b8359",
   "metadata": {
    "tags": []
   },
   "outputs": [
    {
     "name": "stdin",
     "output_type": "stream",
     "text": [
      " 5\n"
     ]
    },
    {
     "name": "stdout",
     "output_type": "stream",
     "text": [
      "    *\n",
      "   ***\n",
      "  *****\n",
      " *******\n",
      "*********\n",
      " *******\n",
      "  *****\n",
      "   ***\n",
      "    *\n"
     ]
    }
   ],
   "source": [
    "n = int(input())\n",
    "\n",
    "for i in range(1, n+1):\n",
    "    ast_str = \" \"*(n-i) + \"*\" * (2*i-1)\n",
    "    if ast_str != \"*\" * (2*n - 1):\n",
    "        print(ast_str)\n",
    "    else:\n",
    "        print(ast_str)\n",
    "        for j in range(n-1, 0, -1):\n",
    "            ast_str = \" \"*(n-j) + \"*\" * (2*j-1)\n",
    "            print(ast_str)\n"
   ]
  },
  {
   "cell_type": "markdown",
   "id": "65160673-21f2-4b6d-852f-33c6d1d4b860",
   "metadata": {},
   "source": [
    "# 2442번"
   ]
  },
  {
   "cell_type": "code",
   "execution_count": 17,
   "id": "5696bea9-51df-458e-97d0-91816cf2a256",
   "metadata": {
    "tags": []
   },
   "outputs": [
    {
     "name": "stdin",
     "output_type": "stream",
     "text": [
      " 5\n"
     ]
    },
    {
     "name": "stdout",
     "output_type": "stream",
     "text": [
      "    *\n",
      "   ***\n",
      "  *****\n",
      " *******\n",
      "*********\n"
     ]
    }
   ],
   "source": [
    "n = int(input())\n",
    "\n",
    "for i in range(1, n+1):\n",
    "    ast_str = \" \"*(n-i) + \"*\" * (2*i-1)\n",
    "    if ast_str != \"*\" * (2*n - 1):\n",
    "        print(ast_str)\n",
    "    else:\n",
    "        print(ast_str)"
   ]
  },
  {
   "cell_type": "code",
   "execution_count": null,
   "id": "86ae5604-0d20-41e1-84a5-1d458b2d26cd",
   "metadata": {},
   "outputs": [],
   "source": []
  }
 ],
 "metadata": {
  "kernelspec": {
   "display_name": "CUDA_tensorflow",
   "language": "python",
   "name": "tf"
  },
  "language_info": {
   "codemirror_mode": {
    "name": "ipython",
    "version": 3
   },
   "file_extension": ".py",
   "mimetype": "text/x-python",
   "name": "python",
   "nbconvert_exporter": "python",
   "pygments_lexer": "ipython3",
   "version": "3.10.12"
  }
 },
 "nbformat": 4,
 "nbformat_minor": 5
}
