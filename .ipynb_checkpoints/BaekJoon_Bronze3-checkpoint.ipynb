{
 "cells": [
  {
   "cell_type": "markdown",
   "id": "a0c5223b-6ba8-4b33-b2a1-03eb09f37a15",
   "metadata": {
    "jp-MarkdownHeadingCollapsed": true,
    "tags": []
   },
   "source": [
    "# 2525번"
   ]
  },
  {
   "cell_type": "code",
   "execution_count": 3,
   "id": "33f9cb8d-7bd7-40e9-91ad-50b4452e684b",
   "metadata": {
    "tags": []
   },
   "outputs": [
    {
     "name": "stdin",
     "output_type": "stream",
     "text": [
      " 23 48\n",
      " 25\n"
     ]
    },
    {
     "name": "stdout",
     "output_type": "stream",
     "text": [
      "0 13\n"
     ]
    }
   ],
   "source": [
    "hours, minutes = input().split(\" \")\n",
    "hours, minutes = int(hours), int(minutes)\n",
    "\n",
    "require_time = int(input())\n",
    "\n",
    "minutes_concat = minutes + require_time\n",
    "\n",
    "if minutes_concat >= 60:\n",
    "    add_hours = minutes_concat // 60\n",
    "    result_hours = hours + add_hours\n",
    "    result_minutes = minutes_concat - (add_hours * 60)\n",
    "    if result_hours > 23:\n",
    "        result_hours = result_hours - 24\n",
    "else:\n",
    "    result_hours = hours\n",
    "    result_minutes = minutes_concat\n",
    "    \n",
    "print(result_hours, result_minutes)"
   ]
  },
  {
   "cell_type": "markdown",
   "id": "891168c6-e0e3-401b-a047-a87a167e6f2a",
   "metadata": {
    "jp-MarkdownHeadingCollapsed": true,
    "tags": []
   },
   "source": [
    "# 10817번"
   ]
  },
  {
   "cell_type": "code",
   "execution_count": 8,
   "id": "5b5cde74-b55e-41ac-8c1c-6680822a24d5",
   "metadata": {
    "tags": []
   },
   "outputs": [
    {
     "name": "stdin",
     "output_type": "stream",
     "text": [
      " 20 30 10\n"
     ]
    },
    {
     "name": "stdout",
     "output_type": "stream",
     "text": [
      "20\n"
     ]
    }
   ],
   "source": [
    "A, B, C = input().split(\" \")\n",
    "\n",
    "num_list = [int(A), int(B), int(C)]\n",
    "num_list.sort()\n",
    "print(num_list[-2])"
   ]
  },
  {
   "cell_type": "markdown",
   "id": "d10ffa02-990d-4a76-a067-262c1f5ec981",
   "metadata": {
    "jp-MarkdownHeadingCollapsed": true,
    "tags": []
   },
   "source": [
    "# 10250번"
   ]
  },
  {
   "cell_type": "code",
   "execution_count": 15,
   "id": "9cf208ff-c5a7-4e26-ad89-6cb1920599bb",
   "metadata": {
    "tags": []
   },
   "outputs": [
    {
     "name": "stdin",
     "output_type": "stream",
     "text": [
      " 3\n",
      " 6 12 10\n"
     ]
    },
    {
     "name": "stdout",
     "output_type": "stream",
     "text": [
      "402\n"
     ]
    },
    {
     "name": "stdin",
     "output_type": "stream",
     "text": [
      " 6 12 12\n"
     ]
    },
    {
     "name": "stdout",
     "output_type": "stream",
     "text": [
      "602\n"
     ]
    },
    {
     "name": "stdin",
     "output_type": "stream",
     "text": [
      " 30 50 72\n"
     ]
    },
    {
     "name": "stdout",
     "output_type": "stream",
     "text": [
      "1203\n"
     ]
    }
   ],
   "source": [
    "T = int(input())\n",
    "\n",
    "for i in range(T):\n",
    "    H, W, N = map(int, input().split())\n",
    "    multiple = N // H\n",
    "    if N % H == 0:\n",
    "        result_W = multiple\n",
    "        result_H = H\n",
    "    else:\n",
    "        result_W = multiple + 1\n",
    "        result_H = N - (multiple * H)\n",
    "    \n",
    "    print(result_H * 100 + result_W)"
   ]
  },
  {
   "cell_type": "markdown",
   "id": "953413d7-7c07-4b8e-93e7-d9a539e6a500",
   "metadata": {
    "jp-MarkdownHeadingCollapsed": true,
    "tags": []
   },
   "source": [
    "# 2441번"
   ]
  },
  {
   "cell_type": "code",
   "execution_count": 19,
   "id": "1fbc2cb9-1a00-42fd-ad85-910eb6b8d3c0",
   "metadata": {
    "tags": []
   },
   "outputs": [
    {
     "name": "stdin",
     "output_type": "stream",
     "text": [
      " 5\n"
     ]
    },
    {
     "name": "stdout",
     "output_type": "stream",
     "text": [
      "*****\n",
      " ****\n",
      "  ***\n",
      "   **\n",
      "    *\n"
     ]
    }
   ],
   "source": [
    "N = int(input())\n",
    "\n",
    "for i in range(N, 0, -1):\n",
    "    blank = \" \" * (N - i)\n",
    "    print(f\"{blank}{'*' * i}\")"
   ]
  },
  {
   "cell_type": "markdown",
   "id": "44b1ff82-d848-4d15-9d01-9943a315383b",
   "metadata": {},
   "source": [
    "# 1085번"
   ]
  },
  {
   "cell_type": "code",
   "execution_count": 21,
   "id": "03a25360-597a-4e96-9582-10289b5db597",
   "metadata": {
    "tags": []
   },
   "outputs": [
    {
     "name": "stdin",
     "output_type": "stream",
     "text": [
      " 161 181 762 375\n"
     ]
    },
    {
     "name": "stdout",
     "output_type": "stream",
     "text": [
      "194\n"
     ]
    }
   ],
   "source": [
    "x, y, w, h = map(int, input().split(\" \"))\n",
    "\n",
    "abs_w = abs(x - w)\n",
    "abs_h = abs(y - h)\n",
    "\n",
    "if abs_w == abs_h:\n",
    "    print(abs_w)\n",
    "elif abs_w > abs_h:\n",
    "    print(abs_h)\n",
    "else:\n",
    "    print(abs_w)"
   ]
  },
  {
   "cell_type": "code",
   "execution_count": null,
   "id": "2337865d-0a85-4f4e-9377-99918db7001c",
   "metadata": {},
   "outputs": [],
   "source": []
  }
 ],
 "metadata": {
  "kernelspec": {
   "display_name": "CUDA_tensorflow",
   "language": "python",
   "name": "tf"
  },
  "language_info": {
   "codemirror_mode": {
    "name": "ipython",
    "version": 3
   },
   "file_extension": ".py",
   "mimetype": "text/x-python",
   "name": "python",
   "nbconvert_exporter": "python",
   "pygments_lexer": "ipython3",
   "version": "3.10.12"
  }
 },
 "nbformat": 4,
 "nbformat_minor": 5
}
